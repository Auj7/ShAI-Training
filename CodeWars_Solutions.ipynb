{
  "nbformat": 4,
  "nbformat_minor": 0,
  "metadata": {
    "colab": {
      "provenance": [],
      "collapsed_sections": [
        "xv2WlOUzwIGq",
        "ECc1WLxixTud",
        "cO-DGIDT4PV1",
        "SzttkU-c6uDZ",
        "wMhtloTJ7p_I",
        "ibL6yF-Z_mwY",
        "xtMpMU0JDp7I",
        "CC8riMTUKkiM",
        "1fqoYGAwL2Ot",
        "hiLKM0veJANX",
        "Ca_nZpY9KNVO",
        "VOEIGVzYP4dn",
        "hkRrPUnkQaHf",
        "9FVI91swRcl_",
        "kB1RwlU1UEIg",
        "vgGh_Wq7U1_z",
        "JOZoKzCBV6Qw",
        "-M0QyiEYWmGY",
        "Ka464znyYBZ5",
        "iHiMND7CZXtj"
      ],
      "authorship_tag": "ABX9TyN9gjy4iBHyi+Okd1ddgNse",
      "include_colab_link": true
    },
    "kernelspec": {
      "name": "python3",
      "display_name": "Python 3"
    },
    "language_info": {
      "name": "python"
    }
  },
  "cells": [
    {
      "cell_type": "markdown",
      "metadata": {
        "id": "view-in-github",
        "colab_type": "text"
      },
      "source": [
        "<a href=\"https://colab.research.google.com/github/Auj7/ShAI-Training/blob/main/CodeWars_Solutions.ipynb\" target=\"_parent\"><img src=\"https://colab.research.google.com/assets/colab-badge.svg\" alt=\"Open In Colab\"/></a>"
      ]
    },
    {
      "cell_type": "markdown",
      "source": [
        "# Simple multiplication\n",
        "This kata is about multiplying a given number by eight if it is an even number and by nine otherwise.\n",
        "\n",
        "https://www.codewars.com/kata/583710ccaa6717322c000105"
      ],
      "metadata": {
        "id": "xv2WlOUzwIGq"
      }
    },
    {
      "cell_type": "code",
      "source": [
        "def simple_multiplication(number) :\n",
        "    if number % 2 == 0:\n",
        "        return number * 8\n",
        "    else:\n",
        "        return number * 9"
      ],
      "metadata": {
        "id": "yL8Pds_gwQjw"
      },
      "execution_count": null,
      "outputs": []
    },
    {
      "cell_type": "markdown",
      "source": [
        "# Century From Year\n",
        "Introduction\n",
        "\n",
        "The first century spans from the year 1 up to and including the year 100, the second century - from the year 101 up to and including the year 200, etc.\n",
        "\n",
        "Task\n",
        "\n",
        "Given a year, return the century it is in.\n",
        "\n",
        "https://www.codewars.com/kata/5a3fe3dde1ce0e8ed6000097"
      ],
      "metadata": {
        "id": "ECc1WLxixTud"
      }
    },
    {
      "cell_type": "code",
      "source": [
        "import math\n",
        "\n",
        "def century(year):\n",
        "    cent = year / 100\n",
        "    if cent % 2 == 0:\n",
        "        return cent\n",
        "    else:\n",
        "        cent = math.ceil(year/100)\n",
        "        return cent"
      ],
      "metadata": {
        "id": "A4S7NUvZxbO2"
      },
      "execution_count": null,
      "outputs": []
    },
    {
      "cell_type": "markdown",
      "source": [
        "# Is n divisible by x and y?\n",
        "Create a function that checks if a number n is divisible by two numbers x AND y. All inputs are positive, non-zero numbers.\n",
        "\n",
        "https://www.codewars.com/kata/5545f109004975ea66000086"
      ],
      "metadata": {
        "id": "cO-DGIDT4PV1"
      }
    },
    {
      "cell_type": "code",
      "source": [
        "def is_divisible(n,x,y):\n",
        "    if n > 0 and n % x == 0 and n % y == 0 and x > 0 and y > 0:\n",
        "        return True\n",
        "    else:\n",
        "        return False"
      ],
      "metadata": {
        "id": "LvMYhMXI6P1X"
      },
      "execution_count": null,
      "outputs": []
    },
    {
      "cell_type": "markdown",
      "source": [
        "# Even or Odd\n",
        "Create a function that takes an integer as an argument and returns \"Even\" for even numbers or \"Odd\" for odd numbers.\n",
        "\n",
        "https://www.codewars.com/kata/53da3dbb4a5168369a0000fe"
      ],
      "metadata": {
        "id": "SzttkU-c6uDZ"
      }
    },
    {
      "cell_type": "code",
      "source": [
        "def even_or_odd(number):\n",
        "  if number % 2 == 0:\n",
        "    return \"Even\"\n",
        "  else:\n",
        "    return \"Odd\""
      ],
      "metadata": {
        "id": "2b2Qwnvp7Zv-"
      },
      "execution_count": null,
      "outputs": []
    },
    {
      "cell_type": "markdown",
      "source": [
        "# Reversed Strings\n",
        "Complete the solution so that it reverses the string passed into it.\n",
        "\n",
        "https://www.codewars.com/kata/5168bb5dfe9a00b126000018\n",
        "\n"
      ],
      "metadata": {
        "id": "wMhtloTJ7p_I"
      }
    },
    {
      "cell_type": "code",
      "source": [
        "def solution(word):\n",
        "    return word[::-1]"
      ],
      "metadata": {
        "id": "tRHaBAb1_kXK"
      },
      "execution_count": null,
      "outputs": []
    },
    {
      "cell_type": "markdown",
      "source": [
        "# Convert a Boolean to a String\n",
        "Description:\n",
        "Implement a function which convert the given boolean value into its string representation.\n",
        "\n",
        "Note: Only valid inputs will be given.\n",
        "\n",
        "https://www.codewars.com/kata/551b4501ac0447318f0009cd"
      ],
      "metadata": {
        "id": "ibL6yF-Z_mwY"
      }
    },
    {
      "cell_type": "code",
      "source": [
        "def boolean_to_string(b):\n",
        "    if b == True:\n",
        "        return str(b)\n",
        "    elif b == False:\n",
        "        return str(b)"
      ],
      "metadata": {
        "id": "BJoeonVEARWR"
      },
      "execution_count": null,
      "outputs": []
    },
    {
      "cell_type": "markdown",
      "source": [
        "# Price of Mangoes\n",
        "There's a \"3 for 2\" (or \"2+1\" if you like) offer on mangoes. For a given quantity and price (per mango), calculate the total cost of the mangoes.\n",
        "\n",
        "https://www.codewars.com/kata/57a77726bb9944d000000b06"
      ],
      "metadata": {
        "id": "xtMpMU0JDp7I"
      }
    },
    {
      "cell_type": "code",
      "source": [
        "import math\n",
        "def mango(quantity, price):\n",
        "    return (quantity - int(quantity/3)) * price"
      ],
      "metadata": {
        "id": "YTNu8_wJDqaU"
      },
      "execution_count": null,
      "outputs": []
    },
    {
      "cell_type": "markdown",
      "source": [
        "# Quarter of the year\n",
        "Given a month as an integer from 1 to 12, return to which quarter of the year it belongs as an integer number.\n",
        "\n",
        "For example: month 2 (February), is part of the first quarter; month 6 (June), is part of the second quarter; and month 11 (November), is part of the fourth quarter.\n",
        "\n",
        "Constraint:\n",
        "1 <= month <= 12\n",
        "\n",
        "https://www.codewars.com/kata/5ce9c1000bab0b001134f5af\n",
        "\n"
      ],
      "metadata": {
        "id": "CC8riMTUKkiM"
      }
    },
    {
      "cell_type": "code",
      "source": [
        "def quarter_of(month):\n",
        "    if month>=1 and month<=3:\n",
        "        return 1\n",
        "    elif month>=4 and month<=6:\n",
        "        return 2\n",
        "    elif month>=7 and month<=9:\n",
        "        return 3\n",
        "    elif month>=10 and month<=12:\n",
        "        return 4"
      ],
      "metadata": {
        "id": "npOVvyVCLCLt"
      },
      "execution_count": null,
      "outputs": []
    },
    {
      "cell_type": "markdown",
      "source": [
        "# Invert values\n",
        "Given a set of numbers, return the additive inverse of each. Each positive becomes negatives, and the negatives become positives.\n",
        "\n",
        "https://www.codewars.com/kata/5899dc03bc95b1bf1b0000ad"
      ],
      "metadata": {
        "id": "1fqoYGAwL2Ot"
      }
    },
    {
      "cell_type": "code",
      "source": [
        "def invert(numbers):\n",
        "    inverted = []\n",
        "    for num in numbers:\n",
        "        inverted.append(-num)\n",
        "    return inverted\n"
      ],
      "metadata": {
        "id": "atINl3HVL3Mc"
      },
      "execution_count": null,
      "outputs": []
    },
    {
      "cell_type": "markdown",
      "source": [
        "# Remove exclamation marks\n",
        "Write function RemoveExclamationMarks which removes all exclamation marks from a given string.\n",
        "\n",
        "https://www.codewars.com/kata/57a0885cbb9944e24c00008e"
      ],
      "metadata": {
        "id": "hiLKM0veJANX"
      }
    },
    {
      "cell_type": "code",
      "source": [
        "def remove_exclamation_marks(s):\n",
        "    return s.replace('!', '')"
      ],
      "metadata": {
        "id": "r0BQrGPLJVnr"
      },
      "execution_count": null,
      "outputs": []
    },
    {
      "cell_type": "markdown",
      "source": [
        "# Find Maximum and Minimum Values of a List\n",
        "Your task is to make two functions ( max and min, or maximum and minimum, etc., depending on the language ) that receive a list of integers as input, and return the largest and lowest number in that list, respectively.\n",
        "\n",
        "https://www.codewars.com/kata/577a98a6ae28071780000989"
      ],
      "metadata": {
        "id": "Ca_nZpY9KNVO"
      }
    },
    {
      "cell_type": "code",
      "source": [
        "def maximum(lst):\n",
        "    return max(lst)\n",
        "\n",
        "def minimum(lst):\n",
        "    return min(lst)"
      ],
      "metadata": {
        "id": "1Fuv1yI4MUhy"
      },
      "execution_count": null,
      "outputs": []
    },
    {
      "cell_type": "markdown",
      "source": [
        "# Multiply\n",
        "This code does not execute properly. Try to figure out why.\n",
        "\n",
        "https://www.codewars.com/kata/50654ddff44f800200000004"
      ],
      "metadata": {
        "id": "VOEIGVzYP4dn"
      }
    },
    {
      "cell_type": "code",
      "source": [
        "def multiply(a, b):\n",
        "    return a * b"
      ],
      "metadata": {
        "id": "vgaNo6MqQBEo"
      },
      "execution_count": null,
      "outputs": []
    },
    {
      "cell_type": "markdown",
      "source": [
        "# Keep Hydrated!\n",
        "Nathan loves cycling.\n",
        "\n",
        "Because Nathan knows it is important to stay hydrated, he drinks 0.5 litres of water per hour of cycling.\n",
        "\n",
        "You get given the time in hours and you need to return the number of litres Nathan will drink, rounded to the smallest value.\n",
        "\n",
        "https://www.codewars.com/kata/582cb0224e56e068d800003c\n"
      ],
      "metadata": {
        "id": "hkRrPUnkQaHf"
      }
    },
    {
      "cell_type": "code",
      "source": [
        "def litres(time):\n",
        "    return int(time * 0.5)\n"
      ],
      "metadata": {
        "id": "RUSNiiM9RCFW"
      },
      "execution_count": null,
      "outputs": []
    },
    {
      "cell_type": "markdown",
      "source": [
        "# Beginner - Reduce but Grow\n",
        "Given a non-empty array of integers, return the result of multiplying the values together in order. Example:\n",
        "\n",
        "    [1, 2, 3, 4] => 1 * 2 * 3 * 4 = 24\n",
        "https://www.codewars.com/kata/57f780909f7e8e3183000078"
      ],
      "metadata": {
        "id": "9FVI91swRcl_"
      }
    },
    {
      "cell_type": "code",
      "source": [
        "def grow(lst):\n",
        "    result = 1\n",
        "    for num in lst:\n",
        "        result *= num\n",
        "    return result"
      ],
      "metadata": {
        "id": "lC81Wg97Stib"
      },
      "execution_count": null,
      "outputs": []
    },
    {
      "cell_type": "markdown",
      "source": [
        "# Convert a String to a Number!\n",
        "We need a function that can transform a string into a number. What ways of achieving this do you know?\n",
        "\n",
        "Note: Don't worry, all inputs will be strings, and every string is a perfectly valid representation of an integral number.\n",
        "\n",
        "https://www.codewars.com/kata/544675c6f971f7399a000e79"
      ],
      "metadata": {
        "id": "kB1RwlU1UEIg"
      }
    },
    {
      "cell_type": "code",
      "source": [
        "def string_to_number(s):\n",
        "    return int(s)"
      ],
      "metadata": {
        "id": "7e2sOUXGUgC_"
      },
      "execution_count": null,
      "outputs": []
    },
    {
      "cell_type": "markdown",
      "source": [
        "# Remove First and Last Character\n",
        "It's pretty straightforward. Your goal is to create a function that removes the first and last characters of a string. You're given one parameter, the original string. You don't have to worry with strings with less than two characters.\n",
        "\n",
        "https://www.codewars.com/kata/56bc28ad5bdaeb48760009b0"
      ],
      "metadata": {
        "id": "vgGh_Wq7U1_z"
      }
    },
    {
      "cell_type": "code",
      "source": [
        "def remove_char(s):\n",
        "    return s[1:-1]"
      ],
      "metadata": {
        "id": "YBqZej2IVSmo"
      },
      "execution_count": null,
      "outputs": []
    },
    {
      "cell_type": "markdown",
      "source": [
        "# String Repeat\n",
        "Write a function that accepts an integer n and a string s as parameters, and returns a string of s repeated exactly n times.\n",
        "\n",
        "https://www.codewars.com/kata/57a0e5c372292dd76d000d7e"
      ],
      "metadata": {
        "id": "JOZoKzCBV6Qw"
      }
    },
    {
      "cell_type": "code",
      "source": [
        "def repeat_str(repeat, word):\n",
        "    return word * repeat"
      ],
      "metadata": {
        "id": "-x0EVl2nWRi1"
      },
      "execution_count": null,
      "outputs": []
    },
    {
      "cell_type": "markdown",
      "source": [
        "# Remove String Spaces\n",
        "Write a function that removes the spaces from the string, then return the resultant string.\n",
        "\n",
        "https://www.codewars.com/kata/57eae20f5500ad98e50002c5"
      ],
      "metadata": {
        "id": "-M0QyiEYWmGY"
      }
    },
    {
      "cell_type": "code",
      "source": [
        "def no_space(x):\n",
        "    return x.replace(\" \", \"\")"
      ],
      "metadata": {
        "id": "1fyCF75tXNSH"
      },
      "execution_count": null,
      "outputs": []
    },
    {
      "cell_type": "markdown",
      "source": [
        "# All Star Code Challenge #18\n",
        "Create a function that accepts a string and a single character, and returns an integer of the count of occurrences the 2nd argument is found in the first one.\n",
        "\n",
        "If no occurrences can be found, a count of 0 should be returned.\n",
        "\n",
        "https://www.codewars.com/kata/5865918c6b569962950002a1"
      ],
      "metadata": {
        "id": "Ka464znyYBZ5"
      }
    },
    {
      "cell_type": "code",
      "source": [
        "def count_occurrences(s, char):\n",
        "    return s.count(char)"
      ],
      "metadata": {
        "id": "Efb2ZwszYohY"
      },
      "execution_count": null,
      "outputs": []
    },
    {
      "cell_type": "markdown",
      "source": [
        "# Beginner Series #2 Clock\n",
        "DESCRIPTION:\n",
        "Clock shows h hours, m minutes and s seconds after midnight.\n",
        "\n",
        "Your task is to write a function which returns the time since midnight in milliseconds.\n",
        "\n",
        "https://www.codewars.com/kata/55f9bca8ecaa9eac7100004a"
      ],
      "metadata": {
        "id": "iHiMND7CZXtj"
      }
    },
    {
      "cell_type": "code",
      "source": [
        "def past(h, m, s):\n",
        "    hours_in_ms = h * 3600000\n",
        "    minutes_in_ms = m * 60000\n",
        "    seconds_in_ms = s * 1000\n",
        "    return hours_in_ms + minutes_in_ms + seconds_in_ms"
      ],
      "metadata": {
        "id": "gEby1Dd5Zd1F"
      },
      "execution_count": null,
      "outputs": []
    },
    {
      "cell_type": "markdown",
      "source": [
        "# altERnaTIng cAsE <=> ALTerNAtiNG CaSe\n",
        "Define String.prototype.toAlternatingCase (or a similar function/method such as to_alternating_case/toAlternatingCase/ToAlternatingCase in your selected language; see the initial solution for details) such that each lowercase letter becomes uppercase and each uppercase letter becomes lowercase.\n",
        "\n",
        "As usual, your function/method should be pure, i.e. it should not mutate the original string.\n",
        "\n",
        "https://www.codewars.com/kata/56efc695740d30f963000557"
      ],
      "metadata": {
        "id": "8kkUfRgxapy5"
      }
    },
    {
      "cell_type": "code",
      "source": [
        "def to_alternating_case(s):\n",
        "    return ''.join(c.lower() if c.isupper() else c.upper() for c in s)"
      ],
      "metadata": {
        "id": "47HPyzfXbXH5"
      },
      "execution_count": null,
      "outputs": []
    }
  ]
}