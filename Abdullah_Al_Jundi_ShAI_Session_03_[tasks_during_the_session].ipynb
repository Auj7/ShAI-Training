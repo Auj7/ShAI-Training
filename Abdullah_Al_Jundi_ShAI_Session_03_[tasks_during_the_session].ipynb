{
  "nbformat": 4,
  "nbformat_minor": 0,
  "metadata": {
    "colab": {
      "provenance": [],
      "authorship_tag": "ABX9TyOQe4W4hhExqMqzAjJ2dYxI",
      "include_colab_link": true
    },
    "kernelspec": {
      "name": "python3",
      "display_name": "Python 3"
    },
    "language_info": {
      "name": "python"
    }
  },
  "cells": [
    {
      "cell_type": "markdown",
      "metadata": {
        "id": "view-in-github",
        "colab_type": "text"
      },
      "source": [
        "<a href=\"https://colab.research.google.com/github/Auj7/ShAI-Training/blob/main/Abdullah_Al_Jundi_ShAI_Session_03_%5Btasks_during_the_session%5D.ipynb\" target=\"_parent\"><img src=\"https://colab.research.google.com/assets/colab-badge.svg\" alt=\"Open In Colab\"/></a>"
      ]
    },
    {
      "cell_type": "markdown",
      "source": [
        "1) Write a program that checks if a number is negative, and prints \"The number is negative\" if it is."
      ],
      "metadata": {
        "id": "rnx3hscIM699"
      }
    },
    {
      "cell_type": "code",
      "source": [
        "a = float(input (\"Enter any number: \"))\n",
        "if a<0:\n",
        "  print (\"The number is negative\")"
      ],
      "metadata": {
        "colab": {
          "base_uri": "https://localhost:8080/"
        },
        "id": "WYXi4RGeM_bq",
        "outputId": "cfc12381-2584-45ea-d747-904f6a75ff4f"
      },
      "execution_count": null,
      "outputs": [
        {
          "output_type": "stream",
          "name": "stdout",
          "text": [
            "Enter any number: -5\n",
            "The number is negative\n"
          ]
        }
      ]
    },
    {
      "cell_type": "markdown",
      "source": [
        "2) Write a program that checks if a number is odd, and prints \"The number is odd\" if it is."
      ],
      "metadata": {
        "id": "7_fxMb_ZNeHZ"
      }
    },
    {
      "cell_type": "code",
      "source": [
        "num = float (input (\"Enter any number: \"))\n",
        "if num % 2 != 0:\n",
        "    print(\"The number is odd.\")"
      ],
      "metadata": {
        "colab": {
          "base_uri": "https://localhost:8080/"
        },
        "id": "z6EZMc-iNh5p",
        "outputId": "a9bbf6b2-0f41-48f9-9c12-b47005670c45"
      },
      "execution_count": null,
      "outputs": [
        {
          "output_type": "stream",
          "name": "stdout",
          "text": [
            "Enter any number: 3\n",
            "The number is odd.\n"
          ]
        }
      ]
    },
    {
      "cell_type": "markdown",
      "source": [
        "3) Determining price categories based on age for a theme park\n",
        "if age under 5, price 0,\n",
        "age between 6 and 12  -> price 10\n",
        "age between 13 and 65 -> price 20\n",
        "age above 65 -> price 15"
      ],
      "metadata": {
        "id": "O5AO8vLsN8vZ"
      }
    },
    {
      "cell_type": "code",
      "source": [
        "age = int(input (\"Enter your age: \"))\n",
        "if age < 5:\n",
        "  print (\"Price is 0\")\n",
        "elif age >= 6 and age <=12:\n",
        "  print (\"Price is 10\")\n",
        "elif age >= 13 and age <=65:\n",
        "  print (\"Price is 20\")\n",
        "else:\n",
        "  print (\"Price is 15\")"
      ],
      "metadata": {
        "colab": {
          "base_uri": "https://localhost:8080/"
        },
        "id": "K5KfPhaNOAOd",
        "outputId": "21c54551-5d58-4857-d7cf-00b7dcac49c8"
      },
      "execution_count": null,
      "outputs": [
        {
          "output_type": "stream",
          "name": "stdout",
          "text": [
            "Enter your age: 11\n",
            "Price is 10\n"
          ]
        }
      ]
    },
    {
      "cell_type": "markdown",
      "source": [
        "4) Classifying a student's grade A, B, C, D, F"
      ],
      "metadata": {
        "id": "lLbwYqVaO6QL"
      }
    },
    {
      "cell_type": "code",
      "source": [
        "grade = int(input (\"Enter your grade: \"))\n",
        "if grade < 60:\n",
        "  print (\"your grade is F\")\n",
        "elif grade >= 60 and grade <=69:\n",
        "  print (\"your grade is D\")\n",
        "elif grade >= 70 and grade <=79:\n",
        "  print (\"your grade is C\")\n",
        "elif grade >= 80 and grade <=89:\n",
        "  print (\"your grade is B\")\n",
        "elif grade >= 90 and grade <=100:\n",
        "  print (\"your grade is A\")"
      ],
      "metadata": {
        "colab": {
          "base_uri": "https://localhost:8080/"
        },
        "id": "ekQICRDqO7vJ",
        "outputId": "d6dda7e6-02fb-43a8-cdd3-805babf80cd2"
      },
      "execution_count": null,
      "outputs": [
        {
          "output_type": "stream",
          "name": "stdout",
          "text": [
            "Enter your grade: 82\n",
            "your grade is B\n"
          ]
        }
      ]
    },
    {
      "cell_type": "markdown",
      "source": [
        "5) check password\n",
        "username = \"admin\"\n",
        "password = \"123456\""
      ],
      "metadata": {
        "id": "cxptnAYJPnO-"
      }
    },
    {
      "cell_type": "code",
      "source": [
        "user = input(\"Enter usename: \")\n",
        "password = input(\"Enter password: \")\n",
        "\n",
        "print (\"Log in\") if user == \"admin\" and password == \"123456\" else print (\"Log in Failed, please try again\")\n"
      ],
      "metadata": {
        "colab": {
          "base_uri": "https://localhost:8080/"
        },
        "id": "64BshNAjPorW",
        "outputId": "1d37548a-5968-4830-c339-d4f37be3a22e"
      },
      "execution_count": null,
      "outputs": [
        {
          "output_type": "stream",
          "name": "stdout",
          "text": [
            "Enter usename: admin\n",
            "Enter password: 123456\n",
            "Log in\n"
          ]
        }
      ]
    },
    {
      "cell_type": "markdown",
      "source": [
        "6) dicount coupon\n",
        "Discounts on a product based on a coupon code:DISCOUNT10 -> price - 10"
      ],
      "metadata": {
        "id": "gBnt6lueQZKn"
      }
    },
    {
      "cell_type": "code",
      "source": [
        "price = float(input (\"Enter a product price: \"))\n",
        "discount = input (\"Enter a discount code if you have: \")\n",
        "\n",
        "if discount == \"DISCOUNT10\":\n",
        "  total_price = price - 10\n",
        "  print (total_price)\n",
        "else: total_price = price"
      ],
      "metadata": {
        "colab": {
          "base_uri": "https://localhost:8080/"
        },
        "id": "sYiC3vy_QcDP",
        "outputId": "64ea2aa7-a2d4-4ffe-bd95-b2e63565eed7"
      },
      "execution_count": null,
      "outputs": [
        {
          "output_type": "stream",
          "name": "stdout",
          "text": [
            "Enter a product price: 15\n",
            "Enter a discount code if you have: DISCOUNT10\n",
            "5.0\n"
          ]
        }
      ]
    },
    {
      "cell_type": "markdown",
      "source": [
        "-------------------------------\n",
        "-------------------------------\n",
        "-------------------------------\n",
        "-------------------------------\n",
        "-------------------------------\n",
        "-------------------------------\n",
        "-------------------------------\n",
        "-------------------------------"
      ],
      "metadata": {
        "id": "Ax6ywK5SSGqQ"
      }
    },
    {
      "cell_type": "markdown",
      "source": [
        "1) Print the square of each number in the list [1, 2, 3, 4, 5]."
      ],
      "metadata": {
        "id": "1I1VOZqgStbJ"
      }
    },
    {
      "cell_type": "code",
      "source": [
        "numbers = [1, 2, 3, 4, 5]\n",
        "\n",
        "for num in numbers:\n",
        "    square = num ** 2\n",
        "    print(square)"
      ],
      "metadata": {
        "colab": {
          "base_uri": "https://localhost:8080/"
        },
        "id": "E6aA5TkgSvUp",
        "outputId": "a6ae80f6-4654-4030-8979-9165ef0a3cbd"
      },
      "execution_count": null,
      "outputs": [
        {
          "output_type": "stream",
          "name": "stdout",
          "text": [
            "1\n",
            "4\n",
            "9\n",
            "16\n",
            "25\n"
          ]
        }
      ]
    },
    {
      "cell_type": "markdown",
      "source": [
        "2) Print all numbers from 0 to 10 using a while loop."
      ],
      "metadata": {
        "id": "WlgHOIupSvwe"
      }
    },
    {
      "cell_type": "code",
      "source": [
        "num = 0\n",
        "\n",
        "while num <= 10:\n",
        "    print(num)\n",
        "    num += 1"
      ],
      "metadata": {
        "colab": {
          "base_uri": "https://localhost:8080/"
        },
        "id": "0xrK-lBbSx0a",
        "outputId": "4caff776-5084-4c3e-80e0-7f506bcc7f99"
      },
      "execution_count": null,
      "outputs": [
        {
          "output_type": "stream",
          "name": "stdout",
          "text": [
            "0\n",
            "1\n",
            "2\n",
            "3\n",
            "4\n",
            "5\n",
            "6\n",
            "7\n",
            "8\n",
            "9\n",
            "10\n"
          ]
        }
      ]
    },
    {
      "cell_type": "markdown",
      "source": [
        "3) Count down from 10 to 1 and then print \"Blast off!\""
      ],
      "metadata": {
        "id": "LpR7bWrXSyWx"
      }
    },
    {
      "cell_type": "code",
      "source": [
        "num = 10\n",
        "\n",
        "while num >= 1:\n",
        "    print(num)\n",
        "    num -= 1\n",
        "\n",
        "print(\"Blast off!\")"
      ],
      "metadata": {
        "colab": {
          "base_uri": "https://localhost:8080/"
        },
        "id": "iY5Tazu3S0C1",
        "outputId": "c3725201-1825-4c7d-bb45-620b2f20286f"
      },
      "execution_count": null,
      "outputs": [
        {
          "output_type": "stream",
          "name": "stdout",
          "text": [
            "10\n",
            "9\n",
            "8\n",
            "7\n",
            "6\n",
            "5\n",
            "4\n",
            "3\n",
            "2\n",
            "1\n",
            "Blast off!\n"
          ]
        }
      ]
    },
    {
      "cell_type": "markdown",
      "source": [
        "4) Print all even numbers from the list [1, 2, 3, 4, 5, 6, 7, 8, 9, 10] in one line using a for loop."
      ],
      "metadata": {
        "id": "hj_eLxZOS3EE"
      }
    },
    {
      "cell_type": "code",
      "source": [
        "numbers = [1, 2, 3, 4, 5, 6, 7, 8, 9, 10]\n",
        "\n",
        "for num in numbers:\n",
        "    if num % 2 == 0:\n",
        "        print(num, end=\" \")"
      ],
      "metadata": {
        "colab": {
          "base_uri": "https://localhost:8080/"
        },
        "id": "7lsbgGBVS5Hz",
        "outputId": "358adc44-d6b9-44ca-f67d-1267cabe7956"
      },
      "execution_count": null,
      "outputs": [
        {
          "output_type": "stream",
          "name": "stdout",
          "text": [
            "2 4 6 8 10 "
          ]
        }
      ]
    },
    {
      "cell_type": "markdown",
      "source": [
        "-------------------------------\n",
        "-------------------------------\n",
        "-------------------------------\n",
        "-------------------------------\n",
        "-------------------------------\n",
        "-------------------------------\n",
        "-------------------------------\n",
        "-------------------------------"
      ],
      "metadata": {
        "id": "HnWG-rq5S_5O"
      }
    },
    {
      "cell_type": "markdown",
      "source": [
        "Task 1: Write a program that takes two numbers as inputs from the user and prints their sum."
      ],
      "metadata": {
        "id": "jp3Ogs2wTbsn"
      }
    },
    {
      "cell_type": "code",
      "source": [
        "def sum_of_two_numbers():\n",
        "    num1 = float(input(\"Enter the first number: \"))\n",
        "    num2 = float(input(\"Enter the second number: \"))\n",
        "    sum_result = num1 + num2\n",
        "    print(\"The sum of the two numbers is:\", sum_result)\n",
        "\n",
        "sum_of_two_numbers()"
      ],
      "metadata": {
        "colab": {
          "base_uri": "https://localhost:8080/"
        },
        "id": "lNIoguL5Tckc",
        "outputId": "f7b7eccb-ef9b-4f60-b0a9-6e86d0981c5d"
      },
      "execution_count": null,
      "outputs": [
        {
          "output_type": "stream",
          "name": "stdout",
          "text": [
            "Enter the first number: 15.2\n",
            "Enter the second number: 4.8\n",
            "The sum of the two numbers is: 20.0\n"
          ]
        }
      ]
    },
    {
      "cell_type": "markdown",
      "source": [
        "Task 2: Write a program that takes an integer input from the user. Use a for loop to print all numbers from that integer down to 0."
      ],
      "metadata": {
        "id": "od41GRY3Tc8D"
      }
    },
    {
      "cell_type": "code",
      "source": [
        "def print_numbers_down_to_zero():\n",
        "    num = int(input(\"Enter an integer: \"))\n",
        "\n",
        "    for i in range(num, -1, -1):\n",
        "        print(i)\n",
        "\n",
        "print_numbers_down_to_zero()"
      ],
      "metadata": {
        "colab": {
          "base_uri": "https://localhost:8080/"
        },
        "id": "PB_HvngWTewR",
        "outputId": "26b24fd3-6427-454e-fe1e-b3056aed0005"
      },
      "execution_count": null,
      "outputs": [
        {
          "output_type": "stream",
          "name": "stdout",
          "text": [
            "Enter an integer: 7\n",
            "7\n",
            "6\n",
            "5\n",
            "4\n",
            "3\n",
            "2\n",
            "1\n",
            "0\n"
          ]
        }
      ]
    },
    {
      "cell_type": "markdown",
      "source": [
        "Task 3: Write a program that takes an integer input from the user. Use a while loop to keep doubling the number until it is greater than 1000, then print the result."
      ],
      "metadata": {
        "id": "gGdeduGpTf96"
      }
    },
    {
      "cell_type": "code",
      "source": [
        "def double_until_greater_than_1000():\n",
        "    num = int(input(\"Enter an integer: \"))\n",
        "\n",
        "    while num <= 1000:\n",
        "        num *= 2\n",
        "\n",
        "    print(\"The result is:\", num)\n",
        "\n",
        "double_until_greater_than_1000()"
      ],
      "metadata": {
        "colab": {
          "base_uri": "https://localhost:8080/"
        },
        "id": "_r82wJFkTghC",
        "outputId": "18696a9e-9462-4096-d6bc-749ff895d0e3"
      },
      "execution_count": null,
      "outputs": [
        {
          "output_type": "stream",
          "name": "stdout",
          "text": [
            "Enter an integer: 450\n",
            "The result is: 1800\n"
          ]
        }
      ]
    },
    {
      "cell_type": "markdown",
      "source": [
        "Task 4: Write a function that takes a number as input and returns the square of the number. Use it in a program that takes an input from the user and prints the square."
      ],
      "metadata": {
        "id": "c0pAW2c1ThzE"
      }
    },
    {
      "cell_type": "code",
      "source": [
        "def calculate_square(num):\n",
        "    return num ** 2\n",
        "\n",
        "def print_square():\n",
        "    num = float(input(\"Enter a number: \"))\n",
        "    square = calculate_square(num)\n",
        "    print(\"The square of\", num, \"is:\", square)\n",
        "\n",
        "print_square()"
      ],
      "metadata": {
        "colab": {
          "base_uri": "https://localhost:8080/"
        },
        "id": "NeyG01n5TiTz",
        "outputId": "583522fb-3a4f-4f45-f5ce-d77632c9dde9"
      },
      "execution_count": null,
      "outputs": [
        {
          "output_type": "stream",
          "name": "stdout",
          "text": [
            "Enter a number: 9\n",
            "The square of 9.0 is: 81.0\n"
          ]
        }
      ]
    },
    {
      "cell_type": "markdown",
      "source": [
        "Task 5: Write a program that takes a number as input from the user. If the number is greater than 10, print \"Big number\". If the number is less than or equal to 10, print \"Small number\"."
      ],
      "metadata": {
        "id": "mNKmrzoETkcc"
      }
    },
    {
      "cell_type": "code",
      "source": [
        "def check_number():\n",
        "    num = float(input(\"Enter a number: \"))\n",
        "\n",
        "    if num > 10:\n",
        "        print(\"Big number\")\n",
        "    else:\n",
        "        print(\"Small number\")\n",
        "\n",
        "check_number()"
      ],
      "metadata": {
        "colab": {
          "base_uri": "https://localhost:8080/"
        },
        "id": "S9bMAFYHTlC9",
        "outputId": "7bcb4f01-c7f5-4d59-ef13-9c094b97804c"
      },
      "execution_count": null,
      "outputs": [
        {
          "output_type": "stream",
          "name": "stdout",
          "text": [
            "Enter a number: 26\n",
            "Big number\n"
          ]
        }
      ]
    },
    {
      "cell_type": "markdown",
      "source": [
        "Task 6: Write a function that takes two numbers as inputs and returns their product. Use this function in a program that takes two inputs from the user and prints the product."
      ],
      "metadata": {
        "id": "Esy8mVdKTmDK"
      }
    },
    {
      "cell_type": "code",
      "source": [
        "def calculate_product(num1, num2):\n",
        "    return num1 * num2\n",
        "\n",
        "def print_product():\n",
        "    num1 = float(input(\"Enter the first number: \"))\n",
        "    num2 = float(input(\"Enter the second number: \"))\n",
        "    product = calculate_product(num1, num2)\n",
        "    print(\"The product of\", num1, \"and\", num2, \"is:\", product)\n",
        "\n",
        "print_product()\n"
      ],
      "metadata": {
        "colab": {
          "base_uri": "https://localhost:8080/"
        },
        "id": "2e9jktsOTnRl",
        "outputId": "17dc4acb-8841-4b8a-c1bf-b91dd8a17bd4"
      },
      "execution_count": null,
      "outputs": [
        {
          "output_type": "stream",
          "name": "stdout",
          "text": [
            "Enter the first number: 40\n",
            "Enter the second number: 2\n",
            "The product of 40.0 and 2.0 is: 80.0\n"
          ]
        }
      ]
    },
    {
      "cell_type": "markdown",
      "source": [
        "Task 7: Write a program that uses a while loop to take a number as input from the user, subtract 5, and print the result. Continue this until the result is less than 0."
      ],
      "metadata": {
        "id": "cP-KUQexTnzC"
      }
    },
    {
      "cell_type": "code",
      "source": [
        "def subtract_until_negative():\n",
        "    num = float(input(\"Enter a number: \"))\n",
        "\n",
        "    while num >= 0:\n",
        "        num -= 5\n",
        "        print(num)\n",
        "\n",
        "subtract_until_negative()"
      ],
      "metadata": {
        "colab": {
          "base_uri": "https://localhost:8080/"
        },
        "id": "8V_uv_8sTpPb",
        "outputId": "7be37c0f-a1d7-45e1-e871-4f368ec683f6"
      },
      "execution_count": null,
      "outputs": [
        {
          "output_type": "stream",
          "name": "stdout",
          "text": [
            "Enter a number: 4\n",
            "-1.0\n"
          ]
        }
      ]
    },
    {
      "cell_type": "markdown",
      "source": [
        "Task 8: Write a program that uses a for loop to take an integer input from the user and print the factorial of that number."
      ],
      "metadata": {
        "id": "sY1Kuuw1TpsQ"
      }
    },
    {
      "cell_type": "code",
      "source": [
        "def calculate_factorial(num):\n",
        "    factorial = 1\n",
        "\n",
        "    for i in range(1, num + 1):\n",
        "        factorial *= i\n",
        "\n",
        "    return factorial\n",
        "\n",
        "def print_factorial():\n",
        "    num = int(input(\"Enter an integer: \"))\n",
        "\n",
        "    if num < 0:\n",
        "        print(\"Factorial is not defined for negative numbers.\")\n",
        "    else:\n",
        "        factorial = calculate_factorial(num)\n",
        "        print(\"The factorial of\", num, \"is:\", factorial)\n",
        "\n",
        "print_factorial()"
      ],
      "metadata": {
        "colab": {
          "base_uri": "https://localhost:8080/"
        },
        "id": "azG2x9rETrLM",
        "outputId": "af717be5-6622-42d5-d6aa-1a28f060953c"
      },
      "execution_count": null,
      "outputs": [
        {
          "output_type": "stream",
          "name": "stdout",
          "text": [
            "Enter an integer: 4\n",
            "The factorial of 4 is: 24\n"
          ]
        }
      ]
    },
    {
      "cell_type": "markdown",
      "source": [
        "Task 9: Write a program that takes a number as input from the user. If the number is positive, print \"Positive\". If the number is negative, print \"Negative\". If the number is zero, print \"Zero\""
      ],
      "metadata": {
        "id": "oPvrZcxvTren"
      }
    },
    {
      "cell_type": "code",
      "source": [
        "def check_number():\n",
        "    num = float(input(\"Enter a number: \"))\n",
        "\n",
        "    if num > 0:\n",
        "        print(\"Positive\")\n",
        "    elif num < 0:\n",
        "        print(\"Negative\")\n",
        "    else:\n",
        "        print(\"Zero\")\n",
        "\n",
        "check_number()"
      ],
      "metadata": {
        "colab": {
          "base_uri": "https://localhost:8080/"
        },
        "id": "-M1y5ZACftEd",
        "outputId": "33b472b0-795b-413d-8293-b1da10a95cff"
      },
      "execution_count": null,
      "outputs": [
        {
          "output_type": "stream",
          "name": "stdout",
          "text": [
            "Enter a number: 26\n",
            "Positive\n"
          ]
        }
      ]
    },
    {
      "cell_type": "markdown",
      "source": [
        "Task 10: Write a lambda function that takes two numbers as inputs and returns their division as a floating-point number. Use this function in a program that takes two inputs from the user and prints the division."
      ],
      "metadata": {
        "id": "uk66BGalT1u2"
      }
    },
    {
      "cell_type": "code",
      "source": [
        "divide = lambda num1, num2: num1 / num2\n",
        "\n",
        "def print_division():\n",
        "    num1 = float(input(\"Enter the first number: \"))\n",
        "    num2 = float(input(\"Enter the second number: \"))\n",
        "\n",
        "    division = divide(num1, num2)\n",
        "    print(\"The division of\", num1, \"and\", num2, \"is:\", division)\n",
        "\n",
        "print_division()"
      ],
      "metadata": {
        "colab": {
          "base_uri": "https://localhost:8080/"
        },
        "id": "rcs4P-ceT2dn",
        "outputId": "f8f30bf6-6a65-40a9-d285-832fe33b503a"
      },
      "execution_count": null,
      "outputs": [
        {
          "output_type": "stream",
          "name": "stdout",
          "text": [
            "Enter the first number: 6.4\n",
            "Enter the second number: 2.0\n",
            "The division of 6.4 and 2.0 is: 3.2\n"
          ]
        }
      ]
    }
  ]
}