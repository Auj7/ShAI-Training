{
  "nbformat": 4,
  "nbformat_minor": 0,
  "metadata": {
    "colab": {
      "provenance": [],
      "authorship_tag": "ABX9TyM/Iqf0xoQ/JZ6nd8dqmqFt",
      "include_colab_link": true
    },
    "kernelspec": {
      "name": "python3",
      "display_name": "Python 3"
    },
    "language_info": {
      "name": "python"
    }
  },
  "cells": [
    {
      "cell_type": "markdown",
      "metadata": {
        "id": "view-in-github",
        "colab_type": "text"
      },
      "source": [
        "<a href=\"https://colab.research.google.com/github/Auj7/ShAI-Training/blob/main/Abdullah_Al_Jundi_ShAI_Session_02_%5BTask%5D.ipynb\" target=\"_parent\"><img src=\"https://colab.research.google.com/assets/colab-badge.svg\" alt=\"Open In Colab\"/></a>"
      ]
    },
    {
      "cell_type": "code",
      "execution_count": 1,
      "metadata": {
        "colab": {
          "base_uri": "https://localhost:8080/",
          "height": 0
        },
        "id": "PgyVjZGi66xa",
        "outputId": "8e426caa-959c-4732-cef6-f8c6e96786e5"
      },
      "outputs": [
        {
          "output_type": "stream",
          "name": "stdout",
          "text": [
            "Help on built-in function print in module builtins:\n",
            "\n",
            "print(...)\n",
            "    print(value, ..., sep=' ', end='\\n', file=sys.stdout, flush=False)\n",
            "    \n",
            "    Prints the values to a stream, or to sys.stdout by default.\n",
            "    Optional keyword arguments:\n",
            "    file:  a file-like object (stream); defaults to the current sys.stdout.\n",
            "    sep:   string inserted between values, default a space.\n",
            "    end:   string appended after the last value, default a newline.\n",
            "    flush: whether to forcibly flush the stream.\n",
            "\n"
          ]
        }
      ],
      "source": [
        "help (print)"
      ]
    },
    {
      "cell_type": "markdown",
      "source": [
        "**# Task: Use the print function to display your name, age, and favorite color on separate lines.**"
      ],
      "metadata": {
        "id": "t-smw1hs83ym"
      }
    },
    {
      "cell_type": "code",
      "source": [
        "print (\"My name is Abdullah \\nMy age is 26 \\nMy favorite color is White\")\n",
        "print(\"----\")\n",
        "print (\"My name is Roua\", \"My age is 23\", \"My favorite color is Red\", sep=\"\\n\")"
      ],
      "metadata": {
        "colab": {
          "base_uri": "https://localhost:8080/",
          "height": 0
        },
        "id": "7LxlAdz184ye",
        "outputId": "a7ba7f2b-2f0f-4e68-cd45-76ddb7fc37a9"
      },
      "execution_count": 15,
      "outputs": [
        {
          "output_type": "stream",
          "name": "stdout",
          "text": [
            "My name is Abdullah \n",
            "My age is 26 \n",
            "My favorite color is White\n",
            "----\n",
            "My name is Roua\n",
            "My age is 23\n",
            "My favorite color is Red\n"
          ]
        }
      ]
    },
    {
      "cell_type": "markdown",
      "source": [
        "1) **Notes:**\n",
        "   **Task: Write single-line and multi-line comments explaining what the provided piece of code does.**\n",
        "   \n",
        "   Given code:\n",
        "   ```python\n",
        "   def factorial(n):\n",
        "    #define a new fundction named factorial\n",
        "       if n == 0:\n",
        "           return 1\n",
        "       else:\n",
        "           return n * factorial(n-1)\n",
        "           \"\"\"\n",
        "           Calculate the factorial of a number.\n",
        "           To find the number we used If else.\n",
        "           \"\"\"\n",
        "   ```"
      ],
      "metadata": {
        "id": "Z6rvGvLYOkL6"
      }
    },
    {
      "cell_type": "markdown",
      "source": [
        "2) **Print:**\n",
        "**Task: Use the print function to display the phrase \"Hello, Python!\".**"
      ],
      "metadata": {
        "id": "8BU_vDS9PAB9"
      }
    },
    {
      "cell_type": "code",
      "source": [
        "print (\"Hello, Python!\")"
      ],
      "metadata": {
        "colab": {
          "base_uri": "https://localhost:8080/",
          "height": 0
        },
        "id": "qzzlxW0xPA8T",
        "outputId": "52cce029-b4a7-4af6-b6e3-afc44712c69f"
      },
      "execution_count": 16,
      "outputs": [
        {
          "output_type": "stream",
          "name": "stdout",
          "text": [
            "Hello, Python!\n"
          ]
        }
      ]
    },
    {
      "cell_type": "markdown",
      "source": [
        "3) **Basic data types - CRUD operations:**\n",
        "\n",
        "   **Task: Create variables of each basic data type (integer, float, boolean, string), print their types using `type()`, update their values, and then delete them.**"
      ],
      "metadata": {
        "id": "riYh3oF7PJes"
      }
    },
    {
      "cell_type": "code",
      "source": [
        "#create\n",
        "number = 7 #int\n",
        "points = 7.77 #float\n",
        "result = True #boolean\n",
        "grade = \"Pass the exam\" #string\n",
        "#print their types\n",
        "print(type(number))\n",
        "print(type(points))\n",
        "print(type(result))\n",
        "print(type(grade))\n",
        "#Update the variables\n",
        "number = 8 #int\n",
        "points = 8.88 #float\n",
        "result = False #boolean\n",
        "grade = \"Not Pass the exam\" #string\n",
        "#delete the variables\n",
        "del number\n",
        "del points\n",
        "del result\n",
        "del grade"
      ],
      "metadata": {
        "colab": {
          "base_uri": "https://localhost:8080/",
          "height": 0
        },
        "id": "J1-BD6OqPKZf",
        "outputId": "bd8fbeb9-d8f1-42e5-8bd9-9a42fc56e127"
      },
      "execution_count": 19,
      "outputs": [
        {
          "output_type": "stream",
          "name": "stdout",
          "text": [
            "<class 'int'>\n",
            "<class 'float'>\n",
            "<class 'bool'>\n",
            "<class 'str'>\n"
          ]
        }
      ]
    },
    {
      "cell_type": "markdown",
      "source": [
        "**4) Math operations:**\n",
        "   **Task: Write a script that asks the user for two numbers, then calculates and prints the sum, difference, product, quotient, and remainder of the first number by the second number.**"
      ],
      "metadata": {
        "id": "jQXoxFTVQr9U"
      }
    },
    {
      "cell_type": "code",
      "source": [
        "#create\n",
        "x = 5\n",
        "y = 7\n",
        "#Calculate\n",
        "sum = x+y\n",
        "difference = x-y\n",
        "product = x*y\n",
        "quotient = x/y\n",
        "reminder = x%y\n",
        "#print the calculations\n",
        "print(\"Sum is \", sum, sep=\"\\t\")\n",
        "print(\"difference is \", difference, sep=\"\\t\")\n",
        "print(\"product is \", product, sep=\"\\t\")\n",
        "print(\"quotient is \", quotient, sep=\"\\t\")\n",
        "print(\"reminder is \", reminder, sep=\"\\t\")"
      ],
      "metadata": {
        "colab": {
          "base_uri": "https://localhost:8080/",
          "height": 0
        },
        "id": "ItnCFWsNQtMs",
        "outputId": "47fc3db2-14e4-463e-e4f7-f07cea3ddd0f"
      },
      "execution_count": 30,
      "outputs": [
        {
          "output_type": "stream",
          "name": "stdout",
          "text": [
            "Sum is \t12\n",
            "difference is \t-2\n",
            "product is \t35\n",
            "quotient is \t0.7142857142857143\n",
            "reminder is \t5\n"
          ]
        }
      ]
    },
    {
      "cell_type": "markdown",
      "source": [
        "**5) Logic operations:**\n",
        "   **Task: Write a script that asks the user for two boolean values (input as true/false strings), then prints the results of the logical AND, logical OR, and logical NOT operations on the entered values.**"
      ],
      "metadata": {
        "id": "b2x6ydYNTLbx"
      }
    },
    {
      "cell_type": "code",
      "source": [
        "#input:\n",
        "S1 = input(\"Enter True or Enter False : \")\n",
        "S2 = input(\"Enter True or Enter False : \")\n",
        "#casting:\n",
        "B1= bool(S1)\n",
        "B2= bool(S2)\n",
        "#Logic Operations:\n",
        "AndOper = B1 and B2\n",
        "OrOper = B1 or B2\n",
        "NotOper1 = not B1\n",
        "NotOper2 = not B2\n",
        "#Print Results:\n",
        "print (AndOper)\n",
        "print (OrOper)\n",
        "print (NotOper1)\n",
        "print (NotOper2)"
      ],
      "metadata": {
        "colab": {
          "base_uri": "https://localhost:8080/",
          "height": 0
        },
        "id": "aep3P0pzTOLG",
        "outputId": "4837558b-9a75-4a4c-9fff-d8c88ea671d9"
      },
      "execution_count": 31,
      "outputs": [
        {
          "output_type": "stream",
          "name": "stdout",
          "text": [
            "Enter True or Enter False : True\n",
            "Enter True or Enter False : False\n",
            "True\n",
            "True\n",
            "False\n",
            "False\n"
          ]
        }
      ]
    },
    {
      "cell_type": "markdown",
      "source": [
        "**6) Input:**\n",
        "\n",
        "   **Task: Write a program that asks the user for their name and age, and then prints out a message addressed to them that tells them how many years they have until they turn 100.**"
      ],
      "metadata": {
        "id": "_svrxev3TQRM"
      }
    },
    {
      "cell_type": "code",
      "source": [
        "#inputs\n",
        "Name = input(\"Enter your Name: \")\n",
        "Age = input (\"Enter your Age: \")\n",
        "#Casting\n",
        "Ageint = int(Age)\n",
        "#Print\n",
        "print (\"You need: \", 100-Ageint, \"years to be 100 years old\")"
      ],
      "metadata": {
        "colab": {
          "base_uri": "https://localhost:8080/",
          "height": 0
        },
        "id": "Ypt8U2J2TTff",
        "outputId": "4a4acb6f-f809-452f-e6c5-a7ab0516ab69"
      },
      "execution_count": 35,
      "outputs": [
        {
          "output_type": "stream",
          "name": "stdout",
          "text": [
            "Enter your Name: Abdullah\n",
            "Enter your Age: 26\n",
            "You need:  74 years to be 100 years old\n"
          ]
        }
      ]
    },
    {
      "cell_type": "markdown",
      "metadata": {
        "id": "GrNuBe-WIF9g"
      },
      "source": [
        "\n",
        "**7) print(f\" {}\"):**\n",
        "**Task: Write a script that asks the user for their name and favorite food. Then, use an f-string to print a message saying \"{name} likes {favorite_food}\".**"
      ]
    },
    {
      "cell_type": "code",
      "source": [
        "#inputs\n",
        "Name = input(\"Enter your Name: \")\n",
        "favfood = input (\"Enter your Fav Food: \")\n",
        "#print\n",
        "print (\"{} likes {}\".format(Name, favfood))"
      ],
      "metadata": {
        "colab": {
          "base_uri": "https://localhost:8080/",
          "height": 0
        },
        "id": "y3pjSLXbTYmO",
        "outputId": "ca7bd020-1476-47ea-e11f-df521f038148"
      },
      "execution_count": 39,
      "outputs": [
        {
          "output_type": "stream",
          "name": "stdout",
          "text": [
            "Enter your Name: Abdullah\n",
            "Enter your Fav Food: Pizza\n",
            "Abdullah likes Pizza\n"
          ]
        }
      ]
    }
  ]
}