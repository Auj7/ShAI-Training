{
  "nbformat": 4,
  "nbformat_minor": 0,
  "metadata": {
    "colab": {
      "provenance": [],
      "authorship_tag": "ABX9TyPeSV88lBxzSTLqcd0IUPv4",
      "include_colab_link": true
    },
    "kernelspec": {
      "name": "python3",
      "display_name": "Python 3"
    },
    "language_info": {
      "name": "python"
    }
  },
  "cells": [
    {
      "cell_type": "markdown",
      "metadata": {
        "id": "view-in-github",
        "colab_type": "text"
      },
      "source": [
        "<a href=\"https://colab.research.google.com/github/Auj7/ShAI-Training/blob/main/Abdullah_Al_Jundi_ShAI_Session_06_%5Btasks_during_the_session%5D.ipynb\" target=\"_parent\"><img src=\"https://colab.research.google.com/assets/colab-badge.svg\" alt=\"Open In Colab\"/></a>"
      ]
    },
    {
      "cell_type": "markdown",
      "source": [
        "1. **Inheritance**\n",
        "\n",
        "   Task: Create a parent class `Shape` with a method `area` that returns 0. Then, create two child classes, `Rectangle` and `Circle`. `Rectangle` has attributes `width` and `height`, `Circle` has an attribute `radius`. Override the `area` method in both child classes to calculate the area correctly (use `3.14` as an approximation for pi)."
      ],
      "metadata": {
        "id": "yW58nkVLiH2L"
      }
    },
    {
      "cell_type": "code",
      "source": [
        "class Shape:\n",
        "  def area():\n",
        "    return 0\n",
        "################\n",
        "class Rectangle(Shape):\n",
        "    def __init__(self,width,height):\n",
        "        self.width = width\n",
        "        self.height = height\n",
        "\n",
        "\n",
        "    def area(self):\n",
        "        return self.width*self.height\n",
        "################\n",
        "class Circle(Shape):\n",
        "    def __init__(self, radius):\n",
        "        self.radius = radius\n",
        "\n",
        "    def area(self):\n",
        "        return self.radius**2*3.\n",
        "################\n",
        "Cir = Circle(7)\n",
        "print (\"The are is: \", Cir.area())\n",
        "\n",
        "Rect = Rectangle(5,7)\n",
        "print (\"The are is: \", Rect.area())"
      ],
      "metadata": {
        "colab": {
          "base_uri": "https://localhost:8080/"
        },
        "id": "f-g5ATPIiQbx",
        "outputId": "97f9f115-fcad-4044-cb8a-4a19368a7c2b"
      },
      "execution_count": 12,
      "outputs": [
        {
          "output_type": "stream",
          "name": "stdout",
          "text": [
            "The are is:  147.0\n",
            "The are is:  35\n"
          ]
        }
      ]
    },
    {
      "cell_type": "markdown",
      "source": [
        "2. **Polymorphism**\n",
        "\n",
        "   Task: Expand on the previous task. Add a method `print_info` to the `Shape` class that prints out the type of shape and its area. For each child class, override this method to print the shape type (rectangle or circle), its specific attributes (width and height for rectangles, radius for circles), and its area."
      ],
      "metadata": {
        "id": "11almqPxiKvy"
      }
    },
    {
      "cell_type": "code",
      "source": [
        "class Shape:\n",
        "  def area():\n",
        "    return 0\n",
        "\n",
        "  def print_info():\n",
        "    pass\n",
        "################\n",
        "class Rectangle(Shape):\n",
        "    def __init__(self,width,height):\n",
        "        self.width = width\n",
        "        self.height = height\n",
        "\n",
        "\n",
        "    def area(self):\n",
        "        return self.width*self.height\n",
        "\n",
        "\n",
        "    def print_info(self):\n",
        "      print(f\"The shape is Circle and its area is {self.area()}\")\n",
        "################\n",
        "class Circle(Shape):\n",
        "    def __init__(self, radius):\n",
        "        self.radius = radius\n",
        "\n",
        "    def area(self):\n",
        "        return self.radius**2*3.\n",
        "\n",
        "    def print_info(self):\n",
        "      print(f\"The shape is Rectangle and its area is {self.area()}\")\n",
        "################\n",
        "Cir = Circle(7)\n",
        "Cir.print_info()\n",
        "\n",
        "Rect = Rectangle(5,7)\n",
        "Rect.print_info()"
      ],
      "metadata": {
        "colab": {
          "base_uri": "https://localhost:8080/"
        },
        "id": "Md0Lku5GkPQM",
        "outputId": "111a0ea3-8804-48a6-dc14-ed53d315c34d"
      },
      "execution_count": 5,
      "outputs": [
        {
          "output_type": "stream",
          "name": "stdout",
          "text": [
            "The shape is Rectangle and its area is 147.0\n",
            "The shape is Circle and its area is 35\n"
          ]
        }
      ]
    },
    {
      "cell_type": "markdown",
      "source": [
        "\n",
        "3. **Encapsulation**\n",
        "\n",
        "   Task: Create a class `BankAccount` with private attributes `account_number` and `balance`. Provide getter methods for both (get_account_number, get_balance), and methods to deposit and withdraw money. Ensure that the `withdraw` method checks if there is enough balance before withdrawing."
      ],
      "metadata": {
        "id": "PZV-RF7miOGN"
      }
    },
    {
      "cell_type": "code",
      "source": [
        "class BankAccount:\n",
        "    def __init__(self, account_number, balance):\n",
        "      self.__account_number = account_number   # private attribute\n",
        "      self.__balance = balance    # private attribute\n",
        "\n",
        "    def get_account_number(self):\n",
        "      return self.__account_number\n",
        "\n",
        "    def get_balance(self):\n",
        "      return self.__balance\n",
        "\n",
        "    def deposit(self,money):\n",
        "      self.__balance += money\n",
        "\n",
        "    def withdraw(self,money):\n",
        "      if money>self.__balance:\n",
        "        return \"You balance not enough to do this operation \"\n",
        "      else:\n",
        "        self.__balance -= money\n",
        "        return f\"Withdrawal successful. Your current balance is {self.__balance}.\"\n",
        "############\n",
        "account = BankAccount(\"SS123\", 120000)\n",
        "\n",
        "account.deposit(5000)\n",
        "print(account.withdraw(75000))\n",
        "print(account.get_balance())"
      ],
      "metadata": {
        "colab": {
          "base_uri": "https://localhost:8080/"
        },
        "id": "hx--f88JlGmv",
        "outputId": "38c8454d-5d40-4c9b-9849-dc242199e250"
      },
      "execution_count": 6,
      "outputs": [
        {
          "output_type": "stream",
          "name": "stdout",
          "text": [
            "Withdrawal successful. Your current balance is 50000.\n",
            "50000\n"
          ]
        }
      ]
    },
    {
      "cell_type": "markdown",
      "source": [
        "**Task 1: Inheritance**\n",
        "\n",
        "Create a base class `Animal` that has a method `speak()` which prints `\"I don't know what I say!\"`. Then create two derived classes `Dog` and `Cat` which override the `speak()` method. The `speak()` method in the `Dog` class should print `\"Woof Woof!\"` and the `speak()` method in the `Cat` class should print `\"Meow Meow!\"`.\n"
      ],
      "metadata": {
        "id": "644SqITvlaJ5"
      }
    },
    {
      "cell_type": "code",
      "source": [
        "class Animal:\n",
        "    def speak(self):\n",
        "        print(\"I don't know what I say!\")\n",
        "\n",
        "class Dog(Animal):\n",
        "    def speak(self):\n",
        "        print(\"Woof Woof!\")\n",
        "\n",
        "\n",
        "class Cat(Animal):\n",
        "    def speak(self):\n",
        "        print(\"Meow Meow!\")\n",
        "###################\n",
        "animal1 = Dog()\n",
        "animal2 = Cat()\n",
        "\n",
        "animal1.speak()\n",
        "animal2.speak()"
      ],
      "metadata": {
        "colab": {
          "base_uri": "https://localhost:8080/"
        },
        "id": "eTpNg1Rilgxl",
        "outputId": "7f3d66ce-e7ad-4f50-97fa-326e3eff1359"
      },
      "execution_count": 8,
      "outputs": [
        {
          "output_type": "stream",
          "name": "stdout",
          "text": [
            "Woof Woof!\n",
            "Meow Meow!\n"
          ]
        }
      ]
    },
    {
      "cell_type": "markdown",
      "source": [
        "**Task 2: Polymorphism**\n",
        "\n",
        "Continuing from the above task, create a function `animal_speak(animal)` which accepts an `Animal` object and calls its `speak()` method. This demonstrates polymorphism because you can pass any object of a class derived from `Animal` to this function and it will work.\n"
      ],
      "metadata": {
        "id": "o86tiDGJlc8i"
      }
    },
    {
      "cell_type": "code",
      "source": [
        "def animal_speak(animal):\n",
        "    animal.speak()\n",
        "\n",
        "test_outputs = []\n",
        "\n",
        "dog = Dog()\n",
        "test_outputs.append(\"Dog says:\")\n",
        "animal_speak(dog)\n",
        "\n",
        "\n",
        "cat = Cat()\n",
        "test_outputs.append(\"Cat says:\")\n",
        "animal_speak(cat)\n",
        "\n",
        "\n",
        "base_animal = Animal()\n",
        "test_outputs.append(\"Base Animal says:\")\n",
        "animal_speak(base_animal)\n",
        "\n",
        "test_outputs\n"
      ],
      "metadata": {
        "colab": {
          "base_uri": "https://localhost:8080/"
        },
        "id": "hkC_hKyulhJJ",
        "outputId": "ad27e836-e5f2-438c-fed9-d4a8ec58b1db"
      },
      "execution_count": 9,
      "outputs": [
        {
          "output_type": "stream",
          "name": "stdout",
          "text": [
            "Woof Woof!\n",
            "Meow Meow!\n",
            "I don't know what I say!\n"
          ]
        },
        {
          "output_type": "execute_result",
          "data": {
            "text/plain": [
              "['Dog says:', 'Cat says:', 'Base Animal says:']"
            ]
          },
          "metadata": {},
          "execution_count": 9
        }
      ]
    },
    {
      "cell_type": "markdown",
      "source": [
        "**Task 3: Encapsulation**\n",
        "\n",
        "Create a class `Car` with two attributes: `color` (public) and `__speed` (private). The class should have methods `accelerate()` which increases the speed by 10 and `get_speed()` which returns the current speed. The `__speed` attribute should be modified only through the `accelerate()` method, demonstrating the principle of encapsulation."
      ],
      "metadata": {
        "id": "unze-YpulfCs"
      }
    },
    {
      "cell_type": "code",
      "source": [
        "class Car:\n",
        "    def __init__(self, color):\n",
        "        self.color = color  # Public attribute\n",
        "        self.__speed = 0  # Private attribute\n",
        "\n",
        "    def accelerate(self):\n",
        "        self.__speed += 10\n",
        "\n",
        "    def get_speed(self):\n",
        "        return self.__speed\n",
        "\n",
        "car = Car(\"Red\")\n",
        "car.accelerate()\n",
        "current_speed = car.get_speed()\n",
        "\n",
        "current_speed\n"
      ],
      "metadata": {
        "colab": {
          "base_uri": "https://localhost:8080/"
        },
        "id": "_6ePWavKlhf2",
        "outputId": "c59149de-cccc-45c3-914a-f2b7a7d943cf"
      },
      "execution_count": 10,
      "outputs": [
        {
          "output_type": "execute_result",
          "data": {
            "text/plain": [
              "10"
            ]
          },
          "metadata": {},
          "execution_count": 10
        }
      ]
    },
    {
      "cell_type": "markdown",
      "source": [
        "real-world example of a vehicle rental company:\n",
        "\n",
        "Each type of vehicle can be represented as a class (Car, Truck, Motorcycle), and each individual vehicle can be an instance (object) of their respective class.\n",
        "\n",
        "Common attributes for all vehicles could include `vehicle_id`, `brand`, `model`, `year_of_manufacture`, `mileage`, `price_per_day`.\n",
        "\n",
        "Common methods for all vehicles could include `get_info()` (to get vehicle details), `rent()` (to rent out the vehicle), `return_vehicle()` (to return the vehicle), `calculate_rental_cost()` (to calculate the cost based on the number of days the vehicle was rented).\n",
        "\n",
        "A base class `Vehicle` can be created with all the common attributes and methods. Then, `Car`, `Truck` and `Motorcycle` classes can inherit from the `Vehicle` class.\n",
        "\n",
        "If there are methods that behave differently for different types of vehicles, they can be overridden in the respective classes. For example, the `calculate_rental_cost()` might be different for cars, trucks, and motorcycles, so this method can be overridden in each class.\n",
        "\n",
        "The details like `vehicle_id`, `brand`, `model`, `year_of_manufacture`, `mileage`, `price_per_day` can be kept private, and public methods can be used to get and set these details. This is an example of encapsulation."
      ],
      "metadata": {
        "id": "aJysywbPpr7k"
      }
    },
    {
      "cell_type": "code",
      "source": [
        "# Defining the base class Vehicle\n",
        "class Vehicle:\n",
        "    def __init__(self, vehicle_id, brand, model, year_of_manufacture, mileage, price_per_day):\n",
        "        self.__vehicle_id = vehicle_id\n",
        "        self.__brand = brand\n",
        "        self.__model = model\n",
        "        self.__year_of_manufacture = year_of_manufacture\n",
        "        self.__mileage = mileage\n",
        "        self.__price_per_day = price_per_day\n",
        "        self.__is_rented = False\n",
        "        self.__days_rented = 0\n",
        "\n",
        "    def get_info(self):\n",
        "        return {\n",
        "            'Vehicle ID': self.__vehicle_id,\n",
        "            'Brand': self.__brand,\n",
        "            'Model': self.__model,\n",
        "            'Year of Manufacture': self.__year_of_manufacture,\n",
        "            'Mileage': self.__mileage,\n",
        "            'Price per day': self.__price_per_day\n",
        "        }\n",
        "\n",
        "    def rent(self, days):\n",
        "        if not self.__is_rented:\n",
        "            self.__is_rented = True\n",
        "            self.__days_rented = days\n",
        "            return True\n",
        "        return False\n",
        "\n",
        "    def return_vehicle(self):\n",
        "        if self.__is_rented:\n",
        "            self.__is_rented = False\n",
        "            cost = self.calculate_rental_cost()\n",
        "            self.__days_rented = 0\n",
        "            return cost\n",
        "        return 0\n",
        "\n",
        "    def calculate_rental_cost(self):\n",
        "        return self.__days_rented * self.__price_per_day\n",
        "\n",
        "# Derived classes\n",
        "class Car(Vehicle):\n",
        "    # Assuming cars have a standard rental cost calculation, so not overriding the method\n",
        "    pass\n",
        "\n",
        "class Truck(Vehicle):\n",
        "    # Assuming trucks have a different rental cost calculation\n",
        "    def calculate_rental_cost(self):\n",
        "        # For example, trucks might have a discount if rented for more than 7 days\n",
        "        if self._Vehicle__days_rented > 7:\n",
        "            return self._Vehicle__days_rented * self._Vehicle__price_per_day * 0.9\n",
        "        return super().calculate_rental_cost()\n",
        "\n",
        "class Motorcycle(Vehicle):\n",
        "    # Assuming motorcycles have a different rental cost calculation\n",
        "    def calculate_rental_cost(self):\n",
        "        # For example, motorcycles might have an additional fee\n",
        "        return super().calculate_rental_cost() + 20\n",
        "\n",
        "# Testing the classes\n",
        "car = Car(1, \"Toyota\", \"Camry\", 2020, 5000, 50)\n",
        "truck = Truck(2, \"Ford\", \"F-150\", 2019, 15000, 100)\n",
        "motorcycle = Motorcycle(3, \"Harley Davidson\", \"Street 750\", 2021, 1000, 30)\n",
        "\n",
        "# Renting the car for 5 days\n",
        "car.rent(5)\n",
        "\n",
        "# Renting the truck for 10 days\n",
        "truck.rent(10)\n",
        "\n",
        "# Renting the motorcycle for 3 days\n",
        "motorcycle.rent(3)\n",
        "\n",
        "# Returning the vehicles and getting the rental cost\n",
        "car_cost = car.return_vehicle()\n",
        "truck_cost = truck.return_vehicle()\n",
        "motorcycle_cost = motorcycle.return_vehicle()\n",
        "\n",
        "car_cost, truck_cost, motorcycle_cost\n"
      ],
      "metadata": {
        "colab": {
          "base_uri": "https://localhost:8080/"
        },
        "id": "fOhPUyKnptid",
        "outputId": "59dc1847-06d7-4f7e-d6fb-67a22e6ce9f9"
      },
      "execution_count": 11,
      "outputs": [
        {
          "output_type": "execute_result",
          "data": {
            "text/plain": [
              "(250, 900.0, 110)"
            ]
          },
          "metadata": {},
          "execution_count": 11
        }
      ]
    }
  ]
}