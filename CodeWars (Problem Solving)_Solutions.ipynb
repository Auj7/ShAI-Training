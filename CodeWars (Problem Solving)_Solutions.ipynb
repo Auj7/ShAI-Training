{
  "nbformat": 4,
  "nbformat_minor": 0,
  "metadata": {
    "colab": {
      "provenance": [],
      "authorship_tag": "ABX9TyPqp6aAd7arJ8YtpV07KxI4",
      "include_colab_link": true
    },
    "kernelspec": {
      "name": "python3",
      "display_name": "Python 3"
    },
    "language_info": {
      "name": "python"
    }
  },
  "cells": [
    {
      "cell_type": "markdown",
      "metadata": {
        "id": "view-in-github",
        "colab_type": "text"
      },
      "source": [
        "<a href=\"https://colab.research.google.com/github/Auj7/ShAI-Training/blob/main/CodeWars%20(Problem%20Solving)_Solutions.ipynb\" target=\"_parent\"><img src=\"https://colab.research.google.com/assets/colab-badge.svg\" alt=\"Open In Colab\"/></a>"
      ]
    },
    {
      "cell_type": "markdown",
      "source": [
        "# Simple multiplication\n",
        "This kata is about multiplying a given number by eight if it is an even number and by nine otherwise.\n",
        "\n",
        "https://www.codewars.com/kata/583710ccaa6717322c000105"
      ],
      "metadata": {
        "id": "xv2WlOUzwIGq"
      }
    },
    {
      "cell_type": "code",
      "source": [
        "def simple_multiplication(number) :\n",
        "    if number % 2 == 0:\n",
        "        return number * 8\n",
        "    else:\n",
        "        return number * 9"
      ],
      "metadata": {
        "id": "yL8Pds_gwQjw"
      },
      "execution_count": 7,
      "outputs": []
    },
    {
      "cell_type": "markdown",
      "source": [
        "# Century From Year\n",
        "Introduction\n",
        "\n",
        "The first century spans from the year 1 up to and including the year 100, the second century - from the year 101 up to and including the year 200, etc.\n",
        "\n",
        "Task\n",
        "\n",
        "Given a year, return the century it is in.\n",
        "\n",
        "https://www.codewars.com/kata/5a3fe3dde1ce0e8ed6000097"
      ],
      "metadata": {
        "id": "ECc1WLxixTud"
      }
    },
    {
      "cell_type": "code",
      "source": [
        "import math\n",
        "\n",
        "def century(year):\n",
        "    cent = year / 100\n",
        "    if cent % 2 == 0:\n",
        "        return cent\n",
        "    else:\n",
        "        cent = math.ceil(year/100)\n",
        "        return cent"
      ],
      "metadata": {
        "id": "A4S7NUvZxbO2"
      },
      "execution_count": null,
      "outputs": []
    },
    {
      "cell_type": "markdown",
      "source": [
        "# Is n divisible by x and y?\n",
        "Create a function that checks if a number n is divisible by two numbers x AND y. All inputs are positive, non-zero numbers.\n",
        "\n",
        "https://www.codewars.com/kata/5545f109004975ea66000086"
      ],
      "metadata": {
        "id": "cO-DGIDT4PV1"
      }
    },
    {
      "cell_type": "code",
      "source": [
        "def is_divisible(n,x,y):\n",
        "    if n > 0 and n % x == 0 and n % y == 0 and x > 0 and y > 0:\n",
        "        return True\n",
        "    else:\n",
        "        return False"
      ],
      "metadata": {
        "id": "LvMYhMXI6P1X"
      },
      "execution_count": 6,
      "outputs": []
    },
    {
      "cell_type": "markdown",
      "source": [
        "# Even or Odd\n",
        "Create a function that takes an integer as an argument and returns \"Even\" for even numbers or \"Odd\" for odd numbers.\n",
        "\n",
        "https://www.codewars.com/kata/53da3dbb4a5168369a0000fe"
      ],
      "metadata": {
        "id": "SzttkU-c6uDZ"
      }
    },
    {
      "cell_type": "code",
      "source": [
        "def even_or_odd(number):\n",
        "  if number % 2 == 0:\n",
        "    return \"Even\"\n",
        "  else:\n",
        "    return \"Odd\""
      ],
      "metadata": {
        "id": "2b2Qwnvp7Zv-"
      },
      "execution_count": null,
      "outputs": []
    },
    {
      "cell_type": "markdown",
      "source": [
        "# Reversed Strings\n",
        "Complete the solution so that it reverses the string passed into it.\n",
        "\n",
        "https://www.codewars.com/kata/5168bb5dfe9a00b126000018\n",
        "\n"
      ],
      "metadata": {
        "id": "wMhtloTJ7p_I"
      }
    },
    {
      "cell_type": "code",
      "source": [
        "def solution(word):\n",
        "    return word[::-1]"
      ],
      "metadata": {
        "id": "tRHaBAb1_kXK"
      },
      "execution_count": 8,
      "outputs": []
    },
    {
      "cell_type": "markdown",
      "source": [
        "# Convert a Boolean to a String\n",
        "Description:\n",
        "Implement a function which convert the given boolean value into its string representation.\n",
        "\n",
        "Note: Only valid inputs will be given.\n",
        "\n",
        "https://www.codewars.com/kata/551b4501ac0447318f0009cd"
      ],
      "metadata": {
        "id": "ibL6yF-Z_mwY"
      }
    },
    {
      "cell_type": "code",
      "source": [
        "def boolean_to_string(b):\n",
        "    if b == True:\n",
        "        return str(b)\n",
        "    elif b == False:\n",
        "        return str(b)"
      ],
      "metadata": {
        "id": "BJoeonVEARWR"
      },
      "execution_count": null,
      "outputs": []
    },
    {
      "cell_type": "markdown",
      "source": [
        "# Price of Mangoes\n",
        "There's a \"3 for 2\" (or \"2+1\" if you like) offer on mangoes. For a given quantity and price (per mango), calculate the total cost of the mangoes.\n",
        "\n",
        "https://www.codewars.com/kata/57a77726bb9944d000000b06"
      ],
      "metadata": {
        "id": "xtMpMU0JDp7I"
      }
    },
    {
      "cell_type": "code",
      "source": [
        "import math\n",
        "def mango(quantity, price):\n",
        "    return (quantity - int(quantity/3)) * price"
      ],
      "metadata": {
        "id": "YTNu8_wJDqaU"
      },
      "execution_count": null,
      "outputs": []
    },
    {
      "cell_type": "markdown",
      "source": [
        "# Quarter of the year\n",
        "Description:\n",
        "\n",
        "Given a month as an integer from 1 to 12, return to which quarter of the year it belongs as an integer number.\n",
        "\n",
        "For example: month 2 (February), is part of the first quarter; month 6 (June), is part of the second quarter; and month 11 (November), is part of the fourth quarter.\n",
        "\n",
        "Constraint:\n",
        "1 <= month <= 12\n",
        "\n",
        "https://www.codewars.com/kata/5ce9c1000bab0b001134f5af\n",
        "\n"
      ],
      "metadata": {
        "id": "CC8riMTUKkiM"
      }
    },
    {
      "cell_type": "code",
      "source": [
        "def quarter_of(month):\n",
        "    if month>=1 and month<=3:\n",
        "        return 1\n",
        "    elif month>=4 and month<=6:\n",
        "        return 2\n",
        "    elif month>=7 and month<=9:\n",
        "        return 3\n",
        "    elif month>=10 and month<=12:\n",
        "        return 4"
      ],
      "metadata": {
        "id": "npOVvyVCLCLt"
      },
      "execution_count": null,
      "outputs": []
    },
    {
      "cell_type": "markdown",
      "source": [
        "# Invert values\n",
        "Given a set of numbers, return the additive inverse of each. Each positive becomes negatives, and the negatives become positives.\n",
        "\n",
        "https://www.codewars.com/kata/5899dc03bc95b1bf1b0000ad"
      ],
      "metadata": {
        "id": "1fqoYGAwL2Ot"
      }
    },
    {
      "cell_type": "code",
      "source": [
        "def invert(numbers):\n",
        "    inverted = []\n",
        "    for num in numbers:\n",
        "        inverted.append(-num)\n",
        "    return inverted\n"
      ],
      "metadata": {
        "id": "atINl3HVL3Mc"
      },
      "execution_count": null,
      "outputs": []
    }
  ]
}