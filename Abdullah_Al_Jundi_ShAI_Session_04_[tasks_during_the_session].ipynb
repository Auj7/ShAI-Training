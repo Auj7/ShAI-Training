{
  "nbformat": 4,
  "nbformat_minor": 0,
  "metadata": {
    "colab": {
      "provenance": [],
      "authorship_tag": "ABX9TyNyxEXlQNrjghNapHbBpEdx",
      "include_colab_link": true
    },
    "kernelspec": {
      "name": "python3",
      "display_name": "Python 3"
    },
    "language_info": {
      "name": "python"
    }
  },
  "cells": [
    {
      "cell_type": "markdown",
      "metadata": {
        "id": "view-in-github",
        "colab_type": "text"
      },
      "source": [
        "<a href=\"https://colab.research.google.com/github/Auj7/ShAI-Training/blob/main/Abdullah_Al_Jundi_ShAI_Session_04_%5Btasks_during_the_session%5D.ipynb\" target=\"_parent\"><img src=\"https://colab.research.google.com/assets/colab-badge.svg\" alt=\"Open In Colab\"/></a>"
      ]
    },
    {
      "cell_type": "markdown",
      "source": [
        "# String:\n",
        "   - Task: Write a function to count the number of vowels in a given string."
      ],
      "metadata": {
        "id": "i1S5Xn7PhWtR"
      }
    },
    {
      "cell_type": "code",
      "source": [
        "def count_vowels(string):\n",
        "    vowels = \"aeiouAEIOU\"\n",
        "\n",
        "    count = 0\n",
        "    for char in string:\n",
        "        if char in vowels:\n",
        "            count += 1\n",
        "\n",
        "    return count\n",
        "#test\n",
        "sentence = \"Abdullah R. Al.Jundi\"\n",
        "result = count_vowels(sentence)\n",
        "print(\"# of vowels:\", result)\n"
      ],
      "metadata": {
        "id": "Frb24Z6vhZZG",
        "colab": {
          "base_uri": "https://localhost:8080/"
        },
        "outputId": "e3bf7108-e199-408a-c0a4-d9d223ff5132"
      },
      "execution_count": 1,
      "outputs": [
        {
          "output_type": "stream",
          "name": "stdout",
          "text": [
            "# of vowels: 6\n"
          ]
        }
      ]
    },
    {
      "cell_type": "markdown",
      "source": [
        "- Task: Write a function that takes a string and returns the same string but with every second letter capitalized."
      ],
      "metadata": {
        "id": "2X8tHzrehZvW"
      }
    },
    {
      "cell_type": "code",
      "source": [
        "def capitalize_second_letters(string):\n",
        "    words = string.split()\n",
        "\n",
        "    for i in range(len(words)):\n",
        "        word = list(words[i])\n",
        "\n",
        "        for j in range(1, len(word), 2):\n",
        "            word[j] = word[j].upper()\n",
        "\n",
        "        words[i] = ''.join(word)\n",
        "\n",
        "    return ' '.join(words)\n",
        "\n",
        "# test:\n",
        "my_string = \"abdullah rakan al.jundi\"\n",
        "result = capitalize_second_letters(my_string)\n",
        "print(result)\n"
      ],
      "metadata": {
        "id": "Pf03IBYahfl5",
        "colab": {
          "base_uri": "https://localhost:8080/"
        },
        "outputId": "771b06d8-b208-4552-9b6b-b2c003f81b2f"
      },
      "execution_count": 3,
      "outputs": [
        {
          "output_type": "stream",
          "name": "stdout",
          "text": [
            "aBdUlLaH rAkAn aL.JuNdI\n"
          ]
        }
      ]
    },
    {
      "cell_type": "markdown",
      "source": [
        "# List:\n",
        "\n",
        "-   Task: Write a function that takes a list of numbers and returns a new list containing only the even numbers.\n",
        "\n",
        "\n",
        "\n"
      ],
      "metadata": {
        "id": "SYonEHi6hf7A"
      }
    },
    {
      "cell_type": "code",
      "source": [
        "def get_even_numbers(numbers):\n",
        "    even_numbers = []\n",
        "\n",
        "    for number in numbers:\n",
        "        if number % 2 == 0:\n",
        "            even_numbers.append(number)\n",
        "\n",
        "    return even_numbers\n",
        "#test:\n",
        "my_numbers = [1, 2, 3, 4, 5, 6, 7, 8, 9, 10]\n",
        "result = get_even_numbers(my_numbers)\n",
        "print(result)"
      ],
      "metadata": {
        "id": "JdQEoJ76hxnn",
        "colab": {
          "base_uri": "https://localhost:8080/"
        },
        "outputId": "f0933204-63be-488b-ea4f-38abcff8b31f"
      },
      "execution_count": 4,
      "outputs": [
        {
          "output_type": "stream",
          "name": "stdout",
          "text": [
            "[2, 4, 6, 8, 10]\n"
          ]
        }
      ]
    },
    {
      "cell_type": "markdown",
      "source": [
        "- Task: Write a function that takes a list and returns a new list with duplicate values removed."
      ],
      "metadata": {
        "id": "FOg72B76hx6q"
      }
    },
    {
      "cell_type": "code",
      "source": [
        "def remove_duplicates(lst):\n",
        "    unique_list = []\n",
        "\n",
        "    for item in lst:\n",
        "        if item not in unique_list:\n",
        "            unique_list.append(item)\n",
        "\n",
        "    return unique_list\n",
        "#test\n",
        "my_list = [1, 2, 3, 4, 2, 3, 5, 6, 1, 7, 8, 7]\n",
        "result = remove_duplicates(my_list)\n",
        "print(result)"
      ],
      "metadata": {
        "id": "puq_61xfh8WO",
        "colab": {
          "base_uri": "https://localhost:8080/"
        },
        "outputId": "4ac98faf-1463-4106-cab4-29502e02e788"
      },
      "execution_count": 5,
      "outputs": [
        {
          "output_type": "stream",
          "name": "stdout",
          "text": [
            "[1, 2, 3, 4, 5, 6, 7, 8]\n"
          ]
        }
      ]
    },
    {
      "cell_type": "markdown",
      "source": [
        "# Set:\n",
        "- Task: Write a function that takes two sets and returns their intersection as a new set."
      ],
      "metadata": {
        "id": "DCMR4t2ah8hf"
      }
    },
    {
      "cell_type": "code",
      "source": [
        "def get_set_intersection(set1, set2):\n",
        "    intersection = set1.intersection(set2)\n",
        "    return intersection\n",
        "#test:\n",
        "set1 = {1, 2, 3, 4, 5}\n",
        "set2 = {4, 5, 6, 7, 8}\n",
        "result = get_set_intersection(set1, set2)\n",
        "print(result)"
      ],
      "metadata": {
        "id": "6UvGfv5OiAaI",
        "colab": {
          "base_uri": "https://localhost:8080/"
        },
        "outputId": "f95ca1e2-6ee8-4e56-a7d1-ee234ceb5785"
      },
      "execution_count": 6,
      "outputs": [
        {
          "output_type": "stream",
          "name": "stdout",
          "text": [
            "{4, 5}\n"
          ]
        }
      ]
    },
    {
      "cell_type": "markdown",
      "source": [
        "- Task: Write a function that takes two sets and returns their union as a new set."
      ],
      "metadata": {
        "id": "NVA9M_eDiAzK"
      }
    },
    {
      "cell_type": "code",
      "source": [
        "def get_set_union(set1, set2):\n",
        "    union = set1.union(set2)\n",
        "    return union\n",
        "#test:\n",
        "set1 = {1, 2, 3, 4, 5}\n",
        "set2 = {4, 5, 6, 7, 8}\n",
        "result = get_set_union(set1, set2)\n",
        "print(result)"
      ],
      "metadata": {
        "id": "tRYzX9Q2iDPM",
        "colab": {
          "base_uri": "https://localhost:8080/"
        },
        "outputId": "b9b53b66-9117-43d9-9d83-e44ebfb2ce47"
      },
      "execution_count": 7,
      "outputs": [
        {
          "output_type": "stream",
          "name": "stdout",
          "text": [
            "{1, 2, 3, 4, 5, 6, 7, 8}\n"
          ]
        }
      ]
    },
    {
      "cell_type": "markdown",
      "source": [
        "# Tuple:\n",
        "- Task: Write a function that takes a list of tuples and sorts them based on the second element of each tuple."
      ],
      "metadata": {
        "id": "Z13xvU1uiDhO"
      }
    },
    {
      "cell_type": "code",
      "source": [
        "def sort_tuples_by_second_element(tuples_list):\n",
        "    sorted_list = sorted(tuples_list, key=lambda x: x[1])\n",
        "    return sorted_list\n",
        "#test:\n",
        "my_list = [(3, 9), (2, 5), (1, 7), (4, 2), (5, 0)]\n",
        "result = sort_tuples_by_second_element(my_list)\n",
        "print(result)"
      ],
      "metadata": {
        "id": "XizPDAdDiHim",
        "colab": {
          "base_uri": "https://localhost:8080/"
        },
        "outputId": "0aa4986f-bad3-450c-bffe-8bbc61f76d53"
      },
      "execution_count": 8,
      "outputs": [
        {
          "output_type": "stream",
          "name": "stdout",
          "text": [
            "[(5, 0), (4, 2), (2, 5), (1, 7), (3, 9)]\n"
          ]
        }
      ]
    },
    {
      "cell_type": "markdown",
      "source": [
        "   - Task: Write a function that takes a tuple and returns a reversed version of that tuple.\n"
      ],
      "metadata": {
        "id": "1tMpO6q6iH-r"
      }
    },
    {
      "cell_type": "code",
      "source": [
        "def reverse_tuple(input_tuple):\n",
        "    reversed_tuple = input_tuple[::-1]\n",
        "    return reversed_tuple\n",
        "#test:\n",
        "my_tuple = (1, 2, 3, 4, 5)\n",
        "result = reverse_tuple(my_tuple)\n",
        "print(result)"
      ],
      "metadata": {
        "id": "uAeUflKciLZc",
        "colab": {
          "base_uri": "https://localhost:8080/"
        },
        "outputId": "5fee6618-062e-4b91-c988-75ad2f864e54"
      },
      "execution_count": 9,
      "outputs": [
        {
          "output_type": "stream",
          "name": "stdout",
          "text": [
            "(5, 4, 3, 2, 1)\n"
          ]
        }
      ]
    },
    {
      "cell_type": "markdown",
      "source": [
        "# Dictionary:\n",
        "   - Task: Write a function that takes a dictionary and returns the keys and values as separate lists."
      ],
      "metadata": {
        "id": "rce5b8zhiLw-"
      }
    },
    {
      "cell_type": "code",
      "source": [
        "def separate_dict_keys_values(dictionary):\n",
        "    keys = list(dictionary.keys())\n",
        "    values = list(dictionary.values())\n",
        "    return keys, values\n",
        "#test:\n",
        "my_dict = {\"a\": 1, \"b\": 2, \"c\": 3, \"d\": 4}\n",
        "result_keys, result_values = separate_dict_keys_values(my_dict)\n",
        "print(\"Keys:\", result_keys)\n",
        "print(\"Values:\", result_values)"
      ],
      "metadata": {
        "id": "a6krqvybiYLq",
        "colab": {
          "base_uri": "https://localhost:8080/"
        },
        "outputId": "8dc956d0-bba9-45cf-8074-8cb6ab5ccdbd"
      },
      "execution_count": 10,
      "outputs": [
        {
          "output_type": "stream",
          "name": "stdout",
          "text": [
            "Keys: ['a', 'b', 'c', 'd']\n",
            "Values: [1, 2, 3, 4]\n"
          ]
        }
      ]
    },
    {
      "cell_type": "markdown",
      "source": [
        "   - Task: Write a function that takes a dictionary and a key, and if the key exists in the dictionary, return its value. If the key does not exist, return a default value."
      ],
      "metadata": {
        "id": "X5k6HYQciYe7"
      }
    },
    {
      "cell_type": "code",
      "source": [
        "def get_value_from_dict(dictionary, key, default_value=None):\n",
        "    if key in dictionary:\n",
        "        return dictionary[key]\n",
        "    else:\n",
        "        return default_value\n",
        "#test:\n",
        "my_dict = {\"a\": 1, \"b\": 2, \"c\": 3}\n",
        "result = get_value_from_dict(my_dict, \"b\", default_value=0)\n",
        "print(result)"
      ],
      "metadata": {
        "id": "ZExr9iNvian0",
        "colab": {
          "base_uri": "https://localhost:8080/"
        },
        "outputId": "ab7a89a0-4bb0-43c6-ca0b-79daa83bb5bd"
      },
      "execution_count": 11,
      "outputs": [
        {
          "output_type": "stream",
          "name": "stdout",
          "text": [
            "2\n"
          ]
        }
      ]
    }
  ]
}